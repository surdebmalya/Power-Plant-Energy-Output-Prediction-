{
 "cells": [
  {
   "cell_type": "markdown",
   "metadata": {},
   "source": [
    "# Power Plant Output Prediction"
   ]
  },
  {
   "cell_type": "markdown",
   "metadata": {},
   "source": [
    "#### [General Information](#cell_1)\n",
    "#### [Preprocessing](#cell_2)\n",
    "#### [Training Validation Split](#cell_3)\n",
    "#### [Basic Model Building](#cell_4)\n",
    "#### [Visualization](#cell_5)\n",
    "#### [Feature Selection](#cell_6)\n",
    "#### [Final Model Building](#cell_7)\n",
    "#### [Saving Result](#cell_8)\n",
    "#### [Conclusion](#cell_9)"
   ]
  },
  {
   "cell_type": "raw",
   "metadata": {},
   "source": []
  },
  {
   "cell_type": "markdown",
   "metadata": {},
   "source": [
    "## <a id=\"cell_1\">General Information</a>"
   ]
  },
  {
   "cell_type": "markdown",
   "metadata": {},
   "source": [
    "**Informations About Features**\n",
    "\n",
    "- Temperature (T) in the range 1.81°C and 37.11°C\n",
    "- Ambient Pressure (AP) in the range 992.89-1033.30 millibar\n",
    "- Relative Humidity (RH) in the range of 25.56% to 100.16%\n",
    "- Exhaust Vacuum (V) in the range 25.36-81.56 cm Hg\n",
    "- Net hourly electrical energy output (PE) 420.26-495.76 MW\n",
    "\n",
    "**DEPENDENT FEATURE**\n",
    "\n",
    "**Predict :** PE"
   ]
  },
  {
   "cell_type": "code",
   "execution_count": 78,
   "metadata": {},
   "outputs": [],
   "source": [
    "from sklearn.preprocessing import StandardScaler\n",
    "import pandas as pd\n",
    "from sklearn.model_selection import train_test_split\n",
    "from sklearn.metrics import mean_absolute_error\n",
    "from xgboost import XGBRegressor\n",
    "import matplotlib.pyplot as plt\n",
    "import seaborn as sns"
   ]
  },
  {
   "cell_type": "markdown",
   "metadata": {},
   "source": [
    "## <a id=\"cell_2\">Preprocessing</a>"
   ]
  },
  {
   "cell_type": "code",
   "execution_count": 71,
   "metadata": {},
   "outputs": [],
   "source": [
    "train_data = pd.read_csv(\"E:\\A\\Deep Learning\\Machine Learning\\ML Dataset\\CCPP_participants_Data\\Train.csv\")"
   ]
  },
  {
   "cell_type": "code",
   "execution_count": 74,
   "metadata": {},
   "outputs": [],
   "source": [
    "training_data_y = train_data['PE']\n",
    "training_data_X = train_data.drop('PE', axis=1)"
   ]
  },
  {
   "cell_type": "markdown",
   "metadata": {},
   "source": [
    "## <a id=\"cell_3\">Training Validation Split</a>"
   ]
  },
  {
   "cell_type": "code",
   "execution_count": 72,
   "metadata": {},
   "outputs": [],
   "source": [
    "x_train, x_valid, y_train, y_valid = train_test_split(\n",
    "    training_data_X, training_data_y, test_size=0.1, random_state=42)"
   ]
  },
  {
   "cell_type": "code",
   "execution_count": 75,
   "metadata": {},
   "outputs": [],
   "source": [
    "indep_scaler = StandardScaler()\n",
    "x_train = indep_scaler.fit_transform(x_train)\n",
    "x_valid = indep_scaler.transform(x_valid)\n",
    "\n",
    "dep_scaler = StandardScaler()\n",
    "y_train = dep_scaler.fit_transform(y_train.values.reshape(-1,1))\n",
    "y_valid = dep_scaler.transform(y_valid.values.reshape(-1,1))"
   ]
  },
  {
   "cell_type": "markdown",
   "metadata": {},
   "source": [
    "## <a id=\"cell_4\">Basic Model Building</a>"
   ]
  },
  {
   "cell_type": "code",
   "execution_count": 83,
   "metadata": {},
   "outputs": [
    {
     "data": {
      "text/plain": [
       "0.12778819344205786"
      ]
     },
     "execution_count": 83,
     "metadata": {},
     "output_type": "execute_result"
    }
   ],
   "source": [
    "# XGBoost\n",
    "model_1 = XGBRegressor(n_estimators=500, learning_rate=0.05)\n",
    "\n",
    "model_1.fit(x_train, y_train)\n",
    "predictions = model_1.predict(x_valid)\n",
    "\n",
    "error_1 = mean_absolute_error(y_valid, predictions)\n",
    "error_1"
   ]
  },
  {
   "cell_type": "markdown",
   "metadata": {},
   "source": [
    "## <a id=\"cell_5\">Visualization</a>"
   ]
  },
  {
   "cell_type": "code",
   "execution_count": 79,
   "metadata": {},
   "outputs": [],
   "source": [
    "temp_scaler = StandardScaler()\n",
    "training_data_X_viz = temp_scaler.fit_transform(training_data_X)\n",
    "training_data_X_viz_df = pd.DataFrame(training_data_X_viz, columns = ['AT', 'V', 'AP', 'RH'])"
   ]
  },
  {
   "cell_type": "code",
   "execution_count": 80,
   "metadata": {},
   "outputs": [
    {
     "name": "stdout",
     "output_type": "stream",
     "text": [
      "\n",
      "1. For AT\n",
      "Skewness: -0.149024\n",
      "Kurtosis: -1.038187\n",
      "\n",
      "2. For V\n",
      "Skewness: 0.177096\n",
      "Kurtosis: -1.459973\n",
      "\n",
      "3. For AP\n",
      "Skewness: 0.240197\n",
      "Kurtosis: 0.022437\n",
      "\n",
      "4. For RH\n",
      "Skewness: -0.423511\n",
      "Kurtosis: -0.493871\n"
     ]
    },
    {
     "data": {
      "image/png": "[encoded data removed]",
      "text/plain": [
       "<Figure size 504x504 with 4 Axes>"
      ]
     },
     "metadata": {
      "needs_background": "light"
     },
     "output_type": "display_data"
    }
   ],
   "source": [
    "f, axes = plt.subplots(2, 2, figsize=(7, 7), sharex=True)\n",
    "\n",
    "print('\\n1. For AT')\n",
    "sns.distplot( training_data_X_viz_df['AT'] , color=\"skyblue\", ax=axes[0, 0])\n",
    "print(\"Skewness: %f\" % training_data_X_viz_df['AT'].skew())\n",
    "print(\"Kurtosis: %f\" % training_data_X_viz_df['AT'].kurt())\n",
    "\n",
    "print('\\n2. For V')\n",
    "sns.distplot( training_data_X_viz_df['V'] , color=\"olive\", ax=axes[0, 1])\n",
    "print(\"Skewness: %f\" % training_data_X_viz_df['V'].skew())\n",
    "print(\"Kurtosis: %f\" % training_data_X_viz_df['V'].kurt())\n",
    "\n",
    "print(\"\\n3. For AP\")\n",
    "sns.distplot( training_data_X_viz_df['AP'] , color=\"gold\", ax=axes[1, 0])\n",
    "print(\"Skewness: %f\" % training_data_X_viz_df['AP'].skew())\n",
    "print(\"Kurtosis: %f\" % training_data_X_viz_df['AP'].kurt())\n",
    "\n",
    "print('\\n4. For RH')\n",
    "sns.distplot( training_data_X_viz_df['RH'] , color=\"teal\", ax=axes[1, 1])\n",
    "print(\"Skewness: %f\" % training_data_X_viz_df['RH'].skew())\n",
    "print(\"Kurtosis: %f\" % training_data_X_viz_df['RH'].kurt())"
   ]
  },
  {
   "cell_type": "markdown",
   "metadata": {},
   "source": [
    "Well, the graphs are pretty good and well distributed! As the skewnesses are in the considerable range, thus we will not going for the transformations!"
   ]
  },
  {
   "cell_type": "markdown",
   "metadata": {},
   "source": [
    "## <a id=\"cell_6\">Feature Selection</a>"
   ]
  },
  {
   "cell_type": "code",
   "execution_count": 81,
   "metadata": {},
   "outputs": [
    {
     "data": {
      "text/plain": [
       "<matplotlib.axes._subplots.AxesSubplot at 0x26f149c4dd8>"
      ]
     },
     "execution_count": 81,
     "metadata": {},
     "output_type": "execute_result"
    },
    {
     "data": {
      "image/png": "[encoded data removed]",
      "text/plain": [
       "<Figure size 432x432 with 2 Axes>"
      ]
     },
     "metadata": {
      "needs_background": "light"
     },
     "output_type": "display_data"
    }
   ],
   "source": [
    "f,ax = plt.subplots(figsize=(6, 6))\n",
    "sns.heatmap(pd.DataFrame(x_train).corr(), annot=True, linewidths=.5, fmt= '.1f',ax=ax)"
   ]
  },
  {
   "cell_type": "markdown",
   "metadata": {},
   "source": [
    "It seems **AT** and **V** are related to each other closely!\n",
    "\n",
    "From the dist-plot we can see that **V** is been distributed in an ugly manner than **AT**\n",
    "\n",
    "So, let us remove **V**\n",
    "\n",
    "I have calculate the error after selecting the features, but that error are more than the previous model!\n",
    "\n",
    "**As these are giving more error, thus I decide to do hyper-parameter tuning on previous model!**"
   ]
  },
  {
   "cell_type": "markdown",
   "metadata": {},
   "source": [
    "## <a id=\"cell_7\">Final Model Building</a>"
   ]
  },
  {
   "cell_type": "markdown",
   "metadata": {},
   "source": [
    "### Pre-processing"
   ]
  },
  {
   "cell_type": "code",
   "execution_count": 82,
   "metadata": {},
   "outputs": [],
   "source": [
    "test_X = pd.read_csv(\"E:\\A\\Deep Learning\\Machine Learning\\ML Dataset\\CCPP_participants_Data\\Test.csv\")\n",
    "\n",
    "test_X = temp_scaler.transform(test_X)\n",
    "\n",
    "dep_scaler_final = StandardScaler()\n",
    "training_data_y = dep_scaler_final.fit_transform(training_data_y.values.reshape(-1,1))"
   ]
  },
  {
   "cell_type": "code",
   "execution_count": 84,
   "metadata": {},
   "outputs": [
    {
     "data": {
      "text/plain": [
       "XGBRegressor(base_score=0.5, booster='gbtree', colsample_bylevel=1,\n",
       "             colsample_bynode=1, colsample_bytree=1, gamma=0, gpu_id=-1,\n",
       "             importance_type='gain', interaction_constraints='',\n",
       "             learning_rate=0.1, max_delta_step=0, max_depth=6,\n",
       "             min_child_weight=1, missing=nan, monotone_constraints='()',\n",
       "             n_estimators=3000, n_jobs=0, num_parallel_tree=1, random_state=0,\n",
       "             reg_alpha=0, reg_lambda=1, scale_pos_weight=1, subsample=1,\n",
       "             tree_method='exact', validate_parameters=1, verbosity=None)"
      ]
     },
     "execution_count": 84,
     "metadata": {},
     "output_type": "execute_result"
    }
   ],
   "source": [
    "# XGBoost\n",
    "model_2 = XGBRegressor(n_estimators=3000, learning_rate=0.1)\n",
    "\n",
    "model_2.fit(training_data_X_viz_df, training_data_y)"
   ]
  },
  {
   "cell_type": "markdown",
   "metadata": {},
   "source": [
    "### Making Predictions"
   ]
  },
  {
   "cell_type": "code",
   "execution_count": 86,
   "metadata": {},
   "outputs": [],
   "source": [
    "predictions = model_2.predict(pd.DataFrame(test_X, columns = ['AT', 'V', 'AP', 'RH']))\n",
    "final = dep_scaler_final.inverse_transform(predictions)\n",
    "final_df = pd.DataFrame(final, columns=['PE'])"
   ]
  },
  {
   "cell_type": "markdown",
   "metadata": {},
   "source": [
    "## <a id=\"cell_8\">Saving Result</a>"
   ]
  },
  {
   "cell_type": "code",
   "execution_count": 87,
   "metadata": {},
   "outputs": [],
   "source": [
    "final_df.to_csv('my_submission.csv', index=False)"
   ]
  },
  {
   "cell_type": "markdown",
   "metadata": {},
   "source": [
    "## <a id=\"cell_9\">Conclusion</a>"
   ]
  },
  {
   "cell_type": "markdown",
   "metadata": {},
   "source": [
    "I have also implement the problem in Deep Learning network more specifically that was just a shallow network, and then I compare the **RMSE** of the final output, so it says the machine learning model was better than current one. \n",
    "\n",
    "As it was a Hackathon project, it also had a time limit for submission, so I was unable to fine tuning the deep learning model and submit the machine learning project! Which gave me a score of **2.2722068544013796** & the model gave me a AIR of **30**, it certainly boost my eagerness."
   ]
  },
  {
   "cell_type": "code",
   "execution_count": null,
   "metadata": {},
   "outputs": [],
   "source": []
  }
 ],
 "metadata": {
  "kernelspec": {
   "display_name": "Python 3",
   "language": "python",
   "name": "python3"
  },
  "language_info": {
   "codemirror_mode": {
    "name": "ipython",
    "version": 3
   },
   "file_extension": ".py",
   "mimetype": "text/x-python",
   "name": "python",
   "nbconvert_exporter": "python",
   "pygments_lexer": "ipython3",
   "version": "3.7.2"
  }
 },
 "nbformat": 4,
 "nbformat_minor": 4
}
